{
 "cells": [
  {
   "cell_type": "markdown",
   "id": "b414775c-5f44-4342-ad51-6240785d657c",
   "metadata": {},
   "source": [
    "# Document Versioning\n",
    "**Summary:**  A testing ground for storing multiple versions of an ingested document   \n",
    "**Pros:**  Data supports a forensic trail  \n",
    "**Cons:**  Increased Read/Write Burden and data duplication  \n",
    "**Setup:**  Set up a change stream on a data collection.  Enable a watch to write the previous document to a collection when the current revision is updated or a new document is inserted.     "
   ]
  },
  {
   "cell_type": "code",
   "execution_count": null,
   "id": "bffbf9d0-f8bf-475c-90d8-0651ba434917",
   "metadata": {},
   "outputs": [],
   "source": [
    "import pymongo, random, datetime, time, json, yaml\n",
    "from pymongo import MongoClient\n",
    "import numpy as np\n",
    "from bson.son import SON\n",
    "from bson import ObjectId\n",
    "import pandas as pd"
   ]
  },
  {
   "cell_type": "code",
   "execution_count": null,
   "id": "fc0dfa65-6d50-42ed-b140-4917f09199fb",
   "metadata": {},
   "outputs": [],
   "source": [
    "client = MongoClient(port=27018)\n",
    "db = client.patterns\n",
    "current_collection = db.document_versioning_current\n",
    "historic_collection = db.document_versioning_history "
   ]
  },
  {
   "cell_type": "markdown",
   "id": "ed1b6811-3686-419c-a11c-e3936db0b8df",
   "metadata": {},
   "source": [
    "# Change Streams Test"
   ]
  },
  {
   "cell_type": "code",
   "execution_count": null,
   "id": "b3c9c6c4-0fe1-464d-8c21-40da52b58688",
   "metadata": {},
   "outputs": [],
   "source": [
    "test_collection = db.test\n",
    "with test_collection.watch([], 'updateLookup' ) as stream:\n",
    "    for change in stream:\n",
    "        print(yaml.dump(change, default_flow_style=False))"
   ]
  },
  {
   "cell_type": "markdown",
   "id": "498c0043-8a95-454e-a1ec-0b32d32799df",
   "metadata": {},
   "source": [
    "# Split on Insert"
   ]
  },
  {
   "cell_type": "code",
   "execution_count": null,
   "id": "00f2e693-5fc5-4162-9caa-96a3fcd137a7",
   "metadata": {},
   "outputs": [],
   "source": [
    "pipeline = [\n",
    "    {\"$match\": {\"operationType\": \"insert\" }},\n",
    "    {\"$addFields\": {\"document_version_1\": \n",
    "                    { \"event\":\"$$ROOT.fullDocument.event\", 'document_version':\"schema_v1\"}}},\n",
    "    {\"$addFields\": {\"document_version_2\": \n",
    "                    { \"event\":\"$$ROOT.fullDocument.event\",'document_version':\"schema_v2\"}}}\n",
    "]"
   ]
  },
  {
   "cell_type": "code",
   "execution_count": null,
   "id": "78440908-3cad-4e3e-b5b2-36e3b4a2d386",
   "metadata": {},
   "outputs": [],
   "source": [
    "with current_collection.watch(pipeline, 'updateLookup' ) as stream:\n",
    "    for change in stream:\n",
    "        if change['operationType'] == 'insert':\n",
    "            print(f'INSERT Change detected @ {datetime.datetime.utcnow()} - {change[\"fullDocument\"][\"_id\"]}')\n",
    "            historic_collection.insert_many([change['document_version_1'],change['document_version_2']])\n",
    "            print('Documents created for schema versions 1 and 2')\n",
    "            #current_collection.delete_one({'_id':change['fullDocument']['_id']})"
   ]
  },
  {
   "cell_type": "markdown",
   "id": "ae7ee063-7cf8-4e5d-961d-89c48265c8be",
   "metadata": {},
   "source": [
    "# Split on Insert or Change with Update"
   ]
  },
  {
   "cell_type": "code",
   "execution_count": 25,
   "id": "9268edcd-eb0a-4496-91c0-35e1a5fd2732",
   "metadata": {},
   "outputs": [],
   "source": [
    "pipeline = [\n",
    "    {\"$match\": {'$or':[\n",
    "        {\"operationType\":\"insert\"},\n",
    "        {\"operationType\":\"update\"}\n",
    "    ]}},\n",
    "    {\n",
    "        \"$addFields\": {\n",
    "            \"document_version_1\": { \n",
    "                \"event\":\"$$ROOT.fullDocument.event\", \n",
    "                'document_version':\"schema_v1\", \n",
    "                'source_id':'$$ROOT.fullDocument._id',\n",
    "                'deployment_type':'Big Iron',\n",
    "                'created': datetime.datetime.now()\n",
    "            },\n",
    "            \"document_version_2\": { \n",
    "                \"event\":\"$$ROOT.fullDocument.event\", \n",
    "                'document_version':\"schema_v2\", \n",
    "                'source_id':'$$ROOT.fullDocument._id',\n",
    "                'deployment_type':'Cloud VM',\n",
    "                'created': datetime.datetime.now()\n",
    "            }\n",
    "        }\n",
    "    }\n",
    "]"
   ]
  },
  {
   "cell_type": "code",
   "execution_count": null,
   "id": "ab7d5c8d-ac8e-4b92-b575-8dfdc880ee75",
   "metadata": {},
   "outputs": [
    {
     "name": "stdout",
     "output_type": "stream",
     "text": [
      "INSERT Change detected @ 2022-03-22 19:20:04.430798 - 623a2164822e42eff6d3943b\n",
      "Documents created for schema versions 1 and 2\n",
      "UPDATE Change detected @ 2022-03-22 19:20:26.365668 - 623a2164822e42eff6d3943b\n",
      "Matched Documents: 2\n",
      "Updated Documents: 2\n",
      "UPDATE Change detected @ 2022-03-22 19:30:29.489844 - 623a2164822e42eff6d3943b\n",
      "UPDATE Change detected @ 2022-03-22 19:40:24.766046 - 623a2164822e42eff6d3943b\n",
      "dict_keys(['_id', 'event', 'document_version', 'source_id', 'deployment_type', 'created'])\n",
      "PARTIAL UPDATE Change 2022-03-22 19:40:24.769776 - 623a21640339d6672fe18b43\n",
      "dict_keys(['_id', 'event', 'document_version', 'source_id', 'deployment_type', 'created'])\n",
      "PARTIAL UPDATE Change 2022-03-22 19:40:24.771855 - 623a21640339d6672fe18b44\n"
     ]
    }
   ],
   "source": [
    "common_update_fields = ['event']\n",
    "with current_collection.watch(pipeline, 'updateLookup' ) as stream:\n",
    "    for change in stream:\n",
    "        if change['operationType'] == 'insert':\n",
    "            print(f'INSERT Change detected @ {datetime.datetime.utcnow()} - {change[\"fullDocument\"][\"_id\"]}')\n",
    "            historic_collection.insert_many([change['document_version_1'],change['document_version_2']])\n",
    "            print('Documents created for schema versions 1 and 2')\n",
    "            #current_collection.delete_one({'_id':change['fullDocument']['_id']})\n",
    "        elif change['operationType'] == 'update':\n",
    "            print(f'UPDATE Change detected @ {datetime.datetime.utcnow()} - {change[\"fullDocument\"][\"_id\"]}')\n",
    "            updated_fields = change['updateDescription']['updatedFields'].keys()\n",
    "            # case all fields present\n",
    "            if all([x in common_update_fields for x in updated_fields]):\n",
    "                historic_update_status = historic_collection.update_many({'source_id':change['fullDocument']['_id']}, \n",
    "                                                {'$set':change['updateDescription']['updatedFields']})\n",
    "                print(f'Matched Documents: {historic_update_status.matched_count}')\n",
    "                print(f'Updated Documents: {historic_update_status.modified_count}')\n",
    "            # case some fields present\n",
    "            elif any([x in common_update_fields for x in updated_fields]):\n",
    "                documents = historic_collection.find({'source_id':change['fullDocument']['_id']})\n",
    "                for document in documents:\n",
    "                    print(document.keys())\n",
    "                    for key in updated_fields:\n",
    "                        if key in document.keys():\n",
    "                            document[key] = change['fullDocument'][key]\n",
    "                    document_update = historic_collection.replace_one({'_id':document['_id']}, document)\n",
    "                    print(f'PARTIAL UPDATE Change {datetime.datetime.utcnow()} - {document[\"_id\"]}')"
   ]
  },
  {
   "cell_type": "code",
   "execution_count": null,
   "id": "ca719739-21ae-4a7a-b6f4-3eddbc231ef2",
   "metadata": {},
   "outputs": [],
   "source": []
  }
 ],
 "metadata": {
  "kernelspec": {
   "display_name": "Python 3 (ipykernel)",
   "language": "python",
   "name": "python3"
  },
  "language_info": {
   "codemirror_mode": {
    "name": "ipython",
    "version": 3
   },
   "file_extension": ".py",
   "mimetype": "text/x-python",
   "name": "python",
   "nbconvert_exporter": "python",
   "pygments_lexer": "ipython3",
   "version": "3.9.9"
  }
 },
 "nbformat": 4,
 "nbformat_minor": 5
}
