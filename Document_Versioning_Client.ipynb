{
 "cells": [
  {
   "cell_type": "code",
   "execution_count": null,
   "id": "7b2e5ddd-aa9b-49a0-a9e9-596e1a9f4bb4",
   "metadata": {},
   "outputs": [],
   "source": [
    "import pymongo, random, datetime, time, json\n",
    "from pymongo import MongoClient\n",
    "import numpy as np\n",
    "from bson.son import SON\n",
    "from bson import ObjectId\n",
    "import pandas as pd"
   ]
  },
  {
   "cell_type": "code",
   "execution_count": null,
   "id": "b3d4542e-3b09-4fb7-8481-f5618da3ca90",
   "metadata": {},
   "outputs": [],
   "source": [
    "client = MongoClient(port=27018)\n",
    "db = client.patterns\n",
    "current_collection = db.document_versioning_current\n",
    "historic_collection = db.document_versioning_history\n",
    "test_collection = db.test"
   ]
  },
  {
   "cell_type": "markdown",
   "id": "611c06d3-1d71-4da2-b39a-690d59586b4d",
   "metadata": {},
   "source": [
    "# Setup"
   ]
  },
  {
   "cell_type": "code",
   "execution_count": null,
   "id": "6f660e60-5410-4dc4-bf5c-6e03d2f0e15a",
   "metadata": {},
   "outputs": [],
   "source": [
    "db.drop_collection('document_versioning_current')"
   ]
  },
  {
   "cell_type": "code",
   "execution_count": null,
   "id": "8b65c293-a60d-43bd-bdef-bdc24184ae04",
   "metadata": {},
   "outputs": [],
   "source": [
    "db.drop_collection('document_versioning_history')"
   ]
  },
  {
   "cell_type": "code",
   "execution_count": null,
   "id": "2aab71c4-5a45-436b-8562-f7e7705bb109",
   "metadata": {},
   "outputs": [],
   "source": [
    "db.drop_collection('test')"
   ]
  },
  {
   "cell_type": "code",
   "execution_count": null,
   "id": "626e0bcd-3b4c-47ab-a228-18cf3bb4d32d",
   "metadata": {},
   "outputs": [],
   "source": [
    "test_collection.insert_one({'event':'video 1'})"
   ]
  },
  {
   "cell_type": "markdown",
   "id": "8f53fd3b-fc89-4ed8-b543-f0f7edf9dea0",
   "metadata": {},
   "source": [
    "# Insert Test"
   ]
  },
  {
   "cell_type": "code",
   "execution_count": null,
   "id": "9bc5f035-4918-49ae-828e-ce27e2c1c6d6",
   "metadata": {},
   "outputs": [],
   "source": [
    "current_collection.insert_one({'event':'system insert', \n",
    "                               'deployment_type':'kubernetes',\n",
    "                               'created':datetime.datetime.now()})"
   ]
  },
  {
   "cell_type": "markdown",
   "id": "4d85eee0-622f-4a14-835a-acf6b77e2f2b",
   "metadata": {},
   "source": [
    "# Current Document index"
   ]
  },
  {
   "cell_type": "code",
   "execution_count": null,
   "id": "5116a0b6-05e6-487b-bad5-2847cfcbc0b0",
   "metadata": {},
   "outputs": [],
   "source": [
    "events = list(current_collection.find({}))\n",
    "print(events[0])"
   ]
  },
  {
   "cell_type": "markdown",
   "id": "a23d9686-e927-4994-8686-b38ae998becc",
   "metadata": {},
   "source": [
    "# Historic Document Index"
   ]
  },
  {
   "cell_type": "code",
   "execution_count": null,
   "id": "4cd30516-ce25-451d-8131-1f929679556d",
   "metadata": {},
   "outputs": [],
   "source": [
    "events = list(historic_collection.find({}))\n",
    "for event in events:\n",
    "    print(event)"
   ]
  },
  {
   "cell_type": "markdown",
   "id": "ec99e0ea-ce1a-44b5-958c-a214f8bc8284",
   "metadata": {},
   "source": [
    "# Update Test # 1 The update field is present in the schema"
   ]
  },
  {
   "cell_type": "code",
   "execution_count": null,
   "id": "4460718b-5883-4ded-966c-3d00193e9476",
   "metadata": {},
   "outputs": [],
   "source": [
    "db.drop_collection('document_versioning_current')\n",
    "db.drop_collection('document_versioning_history')"
   ]
  },
  {
   "cell_type": "raw",
   "id": "2ffc63d7-abb2-4577-94ff-66c87ec253ae",
   "metadata": {},
   "source": [
    "start the watch"
   ]
  },
  {
   "cell_type": "code",
   "execution_count": null,
   "id": "2d636ff0-53e2-4586-813e-ef389b538538",
   "metadata": {},
   "outputs": [],
   "source": [
    "current_collection.insert_one({'event':'system insert', \n",
    "                                           'deployment_type':'kubernetes',\n",
    "                                           'created':datetime.datetime.now()\n",
    "                                          })"
   ]
  },
  {
   "cell_type": "raw",
   "id": "c09e5103-dce9-46cf-bf99-eab09bb51783",
   "metadata": {},
   "source": [
    "check fields"
   ]
  },
  {
   "cell_type": "code",
   "execution_count": null,
   "id": "2651a41f-ea2f-4009-8ea6-820519828a7f",
   "metadata": {},
   "outputs": [],
   "source": [
    "events = list(historic_collection.find({}))\n",
    "for event in events:\n",
    "    print(event)"
   ]
  },
  {
   "cell_type": "code",
   "execution_count": null,
   "id": "18df1f29-6201-4c4d-bf6b-7ac2f3872b87",
   "metadata": {},
   "outputs": [],
   "source": [
    "current_collection.update_one({'_id':events[0]['source_id']}, {'$set':{'event':'system updated'}})"
   ]
  },
  {
   "cell_type": "code",
   "execution_count": null,
   "id": "a4e37261-730f-493b-9cc2-3c9f91081676",
   "metadata": {},
   "outputs": [],
   "source": [
    "current_events = list(current_collection.find({}))\n",
    "for event in current_events:\n",
    "    print(event)"
   ]
  },
  {
   "cell_type": "code",
   "execution_count": null,
   "id": "259d18ac-989c-4e80-86cf-69d81c256780",
   "metadata": {},
   "outputs": [],
   "source": [
    "historic_events = list(historic_collection.find({}))\n",
    "for event in historic_events:\n",
    "    print(event)"
   ]
  },
  {
   "cell_type": "markdown",
   "id": "eb8d9c97-c6f9-437c-ab83-0c3d84822e7c",
   "metadata": {},
   "source": [
    "# Update Test #2 Update field is not present in the schema"
   ]
  },
  {
   "cell_type": "code",
   "execution_count": 263,
   "id": "2e086935-f11f-449d-9cd5-8ed82c677aba",
   "metadata": {
    "tags": []
   },
   "outputs": [
    {
     "data": {
      "text/plain": [
       "<pymongo.results.UpdateResult at 0x7f76cb4f7740>"
      ]
     },
     "execution_count": 263,
     "metadata": {},
     "output_type": "execute_result"
    }
   ],
   "source": [
    "current_collection.update_one({'_id':events[0]['source_id']}, {'$set':{'min_containers':3, 'max_containers':4, 'request.cpu':'1000m'}})"
   ]
  },
  {
   "cell_type": "code",
   "execution_count": 264,
   "id": "3f76ed7f-eda8-42a3-bcb6-117b816501cc",
   "metadata": {},
   "outputs": [
    {
     "name": "stdout",
     "output_type": "stream",
     "text": [
      "{'_id': ObjectId('623a2164822e42eff6d3943b'), 'event': 'system updated', 'deployment_type': 'kubernetes', 'created': datetime.datetime(2022, 3, 22, 15, 20, 4, 419000), 'max_containers': 4, 'min_containers': 3, 'request': {'cpu': '1000m'}}\n"
     ]
    }
   ],
   "source": [
    "current_events = list(current_collection.find({}))\n",
    "for event in current_events:\n",
    "    print(event)"
   ]
  },
  {
   "cell_type": "code",
   "execution_count": 265,
   "id": "4d8c009d-0552-4166-8651-55fd2ec9f2ba",
   "metadata": {},
   "outputs": [
    {
     "name": "stdout",
     "output_type": "stream",
     "text": [
      "{'_id': ObjectId('623a21640339d6672fe18b43'), 'event': 'system updated', 'document_version': 'schema_v1', 'source_id': ObjectId('623a2164822e42eff6d3943b'), 'deployment_type': 'Big Iron', 'created': datetime.datetime(2022, 3, 22, 15, 19, 51, 988000)}\n",
      "{'_id': ObjectId('623a21640339d6672fe18b44'), 'event': 'system updated', 'document_version': 'schema_v2', 'source_id': ObjectId('623a2164822e42eff6d3943b'), 'deployment_type': 'Cloud VM', 'created': datetime.datetime(2022, 3, 22, 15, 19, 51, 988000)}\n"
     ]
    }
   ],
   "source": [
    "historic_events = list(historic_collection.find({}))\n",
    "for event in historic_events:\n",
    "    print(event)"
   ]
  },
  {
   "cell_type": "markdown",
   "id": "2f7ffbd4-19e9-412a-b183-f5c4265e0b11",
   "metadata": {},
   "source": [
    "# Update Test #3 Some fields are present in the schema but some are not"
   ]
  },
  {
   "cell_type": "code",
   "execution_count": 266,
   "id": "c34aca6f-9e0f-48eb-9fb2-75eeb02481b8",
   "metadata": {},
   "outputs": [
    {
     "data": {
      "text/plain": [
       "<pymongo.results.UpdateResult at 0x7f76cb61b380>"
      ]
     },
     "execution_count": 266,
     "metadata": {},
     "output_type": "execute_result"
    }
   ],
   "source": [
    "current_collection.update_one({'_id':events[0]['source_id']}, {'$set':{'event': 'system provisioning started','limit.cpu':'2000m', 'processor_resource_type':'burst', 'tier':2}})"
   ]
  },
  {
   "cell_type": "code",
   "execution_count": 267,
   "id": "b9370fea-c19e-40ee-a9e6-b8e35540980a",
   "metadata": {},
   "outputs": [
    {
     "name": "stdout",
     "output_type": "stream",
     "text": [
      "{'_id': ObjectId('623a2164822e42eff6d3943b'), 'event': 'system provisioning started', 'deployment_type': 'kubernetes', 'created': datetime.datetime(2022, 3, 22, 15, 20, 4, 419000), 'max_containers': 4, 'min_containers': 3, 'request': {'cpu': '1000m'}, 'limit': {'cpu': '2000m'}, 'processor_resource_type': 'burst', 'tier': 2}\n"
     ]
    }
   ],
   "source": [
    "current_events = list(current_collection.find({}))\n",
    "for event in current_events:\n",
    "    print(event)"
   ]
  },
  {
   "cell_type": "code",
   "execution_count": 268,
   "id": "57cccb7e-054b-41b0-b436-263be09be4dc",
   "metadata": {},
   "outputs": [
    {
     "name": "stdout",
     "output_type": "stream",
     "text": [
      "{'_id': ObjectId('623a21640339d6672fe18b43'), 'event': 'system provisioning started', 'document_version': 'schema_v1', 'source_id': ObjectId('623a2164822e42eff6d3943b'), 'deployment_type': 'Big Iron', 'created': datetime.datetime(2022, 3, 22, 15, 19, 51, 988000)}\n",
      "{'_id': ObjectId('623a21640339d6672fe18b44'), 'event': 'system provisioning started', 'document_version': 'schema_v2', 'source_id': ObjectId('623a2164822e42eff6d3943b'), 'deployment_type': 'Cloud VM', 'created': datetime.datetime(2022, 3, 22, 15, 19, 51, 988000)}\n"
     ]
    }
   ],
   "source": [
    "historic_events = list(historic_collection.find({}))\n",
    "for event in historic_events:\n",
    "    print(event)"
   ]
  },
  {
   "cell_type": "markdown",
   "id": "1aa041c4-28e8-4db8-9c21-6fa5cf41e502",
   "metadata": {},
   "source": [
    "# Update Test #4 JSON schema validation"
   ]
  },
  {
   "cell_type": "code",
   "execution_count": 269,
   "id": "9974ca6a-5a29-436a-8fe0-f843a0eacf49",
   "metadata": {},
   "outputs": [],
   "source": [
    "big_iron_schema = {\n",
    "    '$jsonSchema': {\n",
    "         'required': [ \"deployment_type\" ],\n",
    "         'properties': {\n",
    "             \"deployment_type\": {\n",
    "                   'enum': [ \"Big Iron\" ],\n",
    "                   'description': \"Physical Servers\"\n",
    "                }\n",
    "         }\n",
    "    }\n",
    "}"
   ]
  },
  {
   "cell_type": "code",
   "execution_count": 270,
   "id": "e164d121-d720-4f51-b8c1-3643470a6f27",
   "metadata": {},
   "outputs": [
    {
     "data": {
      "text/plain": [
       "[{'_id': ObjectId('623a21640339d6672fe18b43'),\n",
       "  'event': 'system provisioning started',\n",
       "  'document_version': 'schema_v1',\n",
       "  'source_id': ObjectId('623a2164822e42eff6d3943b'),\n",
       "  'deployment_type': 'Big Iron',\n",
       "  'created': datetime.datetime(2022, 3, 22, 15, 19, 51, 988000)}]"
      ]
     },
     "execution_count": 270,
     "metadata": {},
     "output_type": "execute_result"
    }
   ],
   "source": [
    "# searching\n",
    "list(historic_collection.find(big_iron_schema))"
   ]
  },
  {
   "cell_type": "code",
   "execution_count": 271,
   "id": "4434364f-36d0-4ed7-8732-c42c3a7cff2f",
   "metadata": {},
   "outputs": [
    {
     "data": {
      "text/plain": [
       "<pymongo.results.UpdateResult at 0x7f76cb7d2880>"
      ]
     },
     "execution_count": 271,
     "metadata": {},
     "output_type": "execute_result"
    }
   ],
   "source": [
    "historic_collection.update_many(big_iron_schema, {'$set':{'physical_memory_gigabytes':'', 'processor_count':''}})"
   ]
  },
  {
   "cell_type": "code",
   "execution_count": 272,
   "id": "f4bf526b-f14f-4bcf-8eeb-cee20d23efef",
   "metadata": {},
   "outputs": [
    {
     "data": {
      "text/plain": [
       "[{'_id': ObjectId('623a21640339d6672fe18b43'),\n",
       "  'event': 'system provisioning started',\n",
       "  'document_version': 'schema_v1',\n",
       "  'source_id': ObjectId('623a2164822e42eff6d3943b'),\n",
       "  'deployment_type': 'Big Iron',\n",
       "  'created': datetime.datetime(2022, 3, 22, 15, 19, 51, 988000),\n",
       "  'physical_memory_gigabytes': '',\n",
       "  'processor_count': ''}]"
      ]
     },
     "execution_count": 272,
     "metadata": {},
     "output_type": "execute_result"
    }
   ],
   "source": [
    "list(historic_collection.find(big_iron_schema))"
   ]
  },
  {
   "cell_type": "code",
   "execution_count": 273,
   "id": "bf4318fa-9266-499b-bf02-c53eaea808e0",
   "metadata": {},
   "outputs": [],
   "source": [
    "big_iron_resource_schema = {\n",
    "    '$jsonSchema': {\n",
    "         'required': [ \"deployment_type\", 'physical_memory_gigabytes', 'processor_count' ],\n",
    "         'properties': {\n",
    "             \"deployment_type\": {\n",
    "                   'enum': [ \"Big Iron\" ],\n",
    "                   'description': \"Physical Servers\"\n",
    "                },\n",
    "             \"physical_memory_gigabytes\":{\n",
    "                 'bsonType': \"int\",\n",
    "                 'minimum': 1,\n",
    "                 'maximum': 128,\n",
    "                 'description': \"must be an integer in [ 1, 128 ] and is required\"\n",
    "             },\n",
    "             \"processor_count\": {\n",
    "                 'bsonType': \"int\",\n",
    "                 'minimum': 1,\n",
    "                 'maximum': 32,\n",
    "                 'description': \"must be an integer in [ 1, 32 ] and is required\"\n",
    "             },\n",
    "         }\n",
    "    }\n",
    "}"
   ]
  },
  {
   "cell_type": "code",
   "execution_count": 274,
   "id": "8101a027-6152-46a4-bcd8-630a51537a9a",
   "metadata": {},
   "outputs": [
    {
     "data": {
      "text/plain": [
       "{'ok': 1.0,\n",
       " '$clusterTime': {'clusterTime': Timestamp(1647978869, 1),\n",
       "  'signature': {'hash': b'\\x00\\x00\\x00\\x00\\x00\\x00\\x00\\x00\\x00\\x00\\x00\\x00\\x00\\x00\\x00\\x00\\x00\\x00\\x00\\x00',\n",
       "   'keyId': 0}},\n",
       " 'operationTime': Timestamp(1647978869, 1)}"
      ]
     },
     "execution_count": 274,
     "metadata": {},
     "output_type": "execute_result"
    }
   ],
   "source": [
    "db.command({'collMod':'document_versioning_history', 'validator':big_iron_resource_schema, 'validationLevel':\"moderate\" })"
   ]
  },
  {
   "cell_type": "code",
   "execution_count": 275,
   "id": "d2a9aec5-7fe0-42b5-bf35-9a99f7188e2e",
   "metadata": {},
   "outputs": [
    {
     "data": {
      "text/plain": [
       "<pymongo.results.UpdateResult at 0x7f76cb6b0c80>"
      ]
     },
     "execution_count": 275,
     "metadata": {},
     "output_type": "execute_result"
    }
   ],
   "source": [
    "historic_collection.update_one({'physical_memory_gigabytes':''}, {'$set':{'physical_memory_gigabytes':'129'}})"
   ]
  },
  {
   "cell_type": "code",
   "execution_count": 276,
   "id": "e8435b74-3c07-4e81-95a6-de371dc080ea",
   "metadata": {},
   "outputs": [
    {
     "data": {
      "text/plain": [
       "[{'_id': ObjectId('623a21640339d6672fe18b43'),\n",
       "  'event': 'system provisioning started',\n",
       "  'document_version': 'schema_v1',\n",
       "  'source_id': ObjectId('623a2164822e42eff6d3943b'),\n",
       "  'deployment_type': 'Big Iron',\n",
       "  'created': datetime.datetime(2022, 3, 22, 15, 19, 51, 988000),\n",
       "  'physical_memory_gigabytes': '129',\n",
       "  'processor_count': ''}]"
      ]
     },
     "execution_count": 276,
     "metadata": {},
     "output_type": "execute_result"
    }
   ],
   "source": [
    "list(historic_collection.find(big_iron_schema))"
   ]
  },
  {
   "cell_type": "markdown",
   "id": "4d3c53c3-9827-44e8-ae1e-c93a97bb29d0",
   "metadata": {},
   "source": [
    "# Update Test #5 Document Validation"
   ]
  },
  {
   "cell_type": "markdown",
   "id": "87c3f45e-fd79-4afe-bf77-12f1524f861a",
   "metadata": {},
   "source": [
    "### Out of Specification"
   ]
  },
  {
   "cell_type": "code",
   "execution_count": 277,
   "id": "e3c0fe59-b374-4828-b5f5-25b452d19c0b",
   "metadata": {},
   "outputs": [
    {
     "data": {
      "text/plain": [
       "<pymongo.results.UpdateResult at 0x7f76cb64e7c0>"
      ]
     },
     "execution_count": 277,
     "metadata": {},
     "output_type": "execute_result"
    }
   ],
   "source": [
    "historic_collection.update_one({'physical_memory_gigabytes':'129'}, {'$set':{'physical_memory_gigabytes':129, 'processor_count':4}})"
   ]
  },
  {
   "cell_type": "code",
   "execution_count": 278,
   "id": "d0abc5e4-d14e-485e-b47b-9e224d93aab1",
   "metadata": {},
   "outputs": [
    {
     "data": {
      "text/plain": [
       "[{'_id': ObjectId('623a21640339d6672fe18b43'),\n",
       "  'event': 'system provisioning started',\n",
       "  'document_version': 'schema_v1',\n",
       "  'source_id': ObjectId('623a2164822e42eff6d3943b'),\n",
       "  'deployment_type': 'Big Iron',\n",
       "  'created': datetime.datetime(2022, 3, 22, 15, 19, 51, 988000),\n",
       "  'physical_memory_gigabytes': 129,\n",
       "  'processor_count': 4}]"
      ]
     },
     "execution_count": 278,
     "metadata": {},
     "output_type": "execute_result"
    }
   ],
   "source": [
    "list(historic_collection.find(big_iron_schema))"
   ]
  },
  {
   "cell_type": "markdown",
   "id": "b11c58b9-61d7-4f55-b56c-70d170d23bb3",
   "metadata": {},
   "source": [
    "## In Specification"
   ]
  },
  {
   "cell_type": "code",
   "execution_count": 279,
   "id": "adcef9ff-7ecf-4c6f-bf0f-e631d7795b1b",
   "metadata": {},
   "outputs": [
    {
     "data": {
      "text/plain": [
       "<pymongo.results.UpdateResult at 0x7f76cb366300>"
      ]
     },
     "execution_count": 279,
     "metadata": {},
     "output_type": "execute_result"
    }
   ],
   "source": [
    "historic_collection.update_one({'physical_memory_gigabytes':129}, {'$set':{'physical_memory_gigabytes':128, 'processor_count':4}})"
   ]
  },
  {
   "cell_type": "code",
   "execution_count": 280,
   "id": "10bbe31d-b8b3-4487-a90e-3d143dfa3133",
   "metadata": {},
   "outputs": [
    {
     "data": {
      "text/plain": [
       "[{'_id': ObjectId('623a21640339d6672fe18b43'),\n",
       "  'event': 'system provisioning started',\n",
       "  'document_version': 'schema_v1',\n",
       "  'source_id': ObjectId('623a2164822e42eff6d3943b'),\n",
       "  'deployment_type': 'Big Iron',\n",
       "  'created': datetime.datetime(2022, 3, 22, 15, 19, 51, 988000),\n",
       "  'physical_memory_gigabytes': 128,\n",
       "  'processor_count': 4}]"
      ]
     },
     "execution_count": 280,
     "metadata": {},
     "output_type": "execute_result"
    }
   ],
   "source": [
    "list(historic_collection.find(big_iron_schema))"
   ]
  },
  {
   "cell_type": "markdown",
   "id": "e8da1de4-1990-4f14-a9b5-723345ca1334",
   "metadata": {},
   "source": [
    "### Out of Specification"
   ]
  },
  {
   "cell_type": "code",
   "execution_count": 281,
   "id": "282d680f-8f1b-43b1-a5cf-cf063e56f897",
   "metadata": {},
   "outputs": [
    {
     "ename": "WriteError",
     "evalue": "Document failed validation, full error: {'index': 0, 'code': 121, 'errInfo': {'failingDocumentId': ObjectId('623a21640339d6672fe18b43'), 'details': {'operatorName': '$jsonSchema', 'schemaRulesNotSatisfied': [{'operatorName': 'properties', 'propertiesNotSatisfied': [{'propertyName': 'physical_memory_gigabytes', 'description': 'must be an integer in [ 1, 128 ] and is required', 'details': [{'operatorName': 'maximum', 'specifiedAs': {'maximum': 128}, 'reason': 'comparison failed', 'consideredValue': 256}]}, {'propertyName': 'processor_count', 'description': 'must be an integer in [ 1, 32 ] and is required', 'details': [{'operatorName': 'maximum', 'specifiedAs': {'maximum': 32}, 'reason': 'comparison failed', 'consideredValue': 64}]}]}]}}, 'errmsg': 'Document failed validation'}",
     "output_type": "error",
     "traceback": [
      "\u001b[0;31m---------------------------------------------------------------------------\u001b[0m",
      "\u001b[0;31mWriteError\u001b[0m                                Traceback (most recent call last)",
      "\u001b[0;32m/tmp/ipykernel_290564/2822152803.py\u001b[0m in \u001b[0;36m<module>\u001b[0;34m\u001b[0m\n\u001b[0;32m----> 1\u001b[0;31m \u001b[0mhistoric_collection\u001b[0m\u001b[0;34m.\u001b[0m\u001b[0mupdate_one\u001b[0m\u001b[0;34m(\u001b[0m\u001b[0;34m{\u001b[0m\u001b[0;34m'physical_memory_gigabytes'\u001b[0m\u001b[0;34m:\u001b[0m\u001b[0;36m128\u001b[0m\u001b[0;34m}\u001b[0m\u001b[0;34m,\u001b[0m \u001b[0;34m{\u001b[0m\u001b[0;34m'$set'\u001b[0m\u001b[0;34m:\u001b[0m\u001b[0;34m{\u001b[0m\u001b[0;34m'physical_memory_gigabytes'\u001b[0m\u001b[0;34m:\u001b[0m\u001b[0;36m256\u001b[0m\u001b[0;34m,\u001b[0m \u001b[0;34m'processor_count'\u001b[0m\u001b[0;34m:\u001b[0m\u001b[0;36m64\u001b[0m\u001b[0;34m}\u001b[0m\u001b[0;34m}\u001b[0m\u001b[0;34m)\u001b[0m\u001b[0;34m\u001b[0m\u001b[0;34m\u001b[0m\u001b[0m\n\u001b[0m",
      "\u001b[0;32m~/.conda/envs/py39/lib/python3.9/site-packages/pymongo/collection.py\u001b[0m in \u001b[0;36mupdate_one\u001b[0;34m(self, filter, update, upsert, bypass_document_validation, collation, array_filters, hint, session)\u001b[0m\n\u001b[1;32m    826\u001b[0m         \u001b[0mwrite_concern\u001b[0m \u001b[0;34m=\u001b[0m \u001b[0mself\u001b[0m\u001b[0;34m.\u001b[0m\u001b[0m_write_concern_for\u001b[0m\u001b[0;34m(\u001b[0m\u001b[0msession\u001b[0m\u001b[0;34m)\u001b[0m\u001b[0;34m\u001b[0m\u001b[0;34m\u001b[0m\u001b[0m\n\u001b[1;32m    827\u001b[0m         return UpdateResult(\n\u001b[0;32m--> 828\u001b[0;31m             self._update_retryable(\n\u001b[0m\u001b[1;32m    829\u001b[0m                 \u001b[0mfilter\u001b[0m\u001b[0;34m,\u001b[0m \u001b[0mupdate\u001b[0m\u001b[0;34m,\u001b[0m \u001b[0mupsert\u001b[0m\u001b[0;34m,\u001b[0m \u001b[0mcheck_keys\u001b[0m\u001b[0;34m=\u001b[0m\u001b[0;32mFalse\u001b[0m\u001b[0;34m,\u001b[0m\u001b[0;34m\u001b[0m\u001b[0;34m\u001b[0m\u001b[0m\n\u001b[1;32m    830\u001b[0m                 \u001b[0mwrite_concern\u001b[0m\u001b[0;34m=\u001b[0m\u001b[0mwrite_concern\u001b[0m\u001b[0;34m,\u001b[0m\u001b[0;34m\u001b[0m\u001b[0;34m\u001b[0m\u001b[0m\n",
      "\u001b[0;32m~/.conda/envs/py39/lib/python3.9/site-packages/pymongo/collection.py\u001b[0m in \u001b[0;36m_update_retryable\u001b[0;34m(self, criteria, document, upsert, check_keys, multi, write_concern, op_id, ordered, bypass_doc_val, collation, array_filters, hint, session)\u001b[0m\n\u001b[1;32m    675\u001b[0m                 retryable_write=retryable_write)\n\u001b[1;32m    676\u001b[0m \u001b[0;34m\u001b[0m\u001b[0m\n\u001b[0;32m--> 677\u001b[0;31m         return self.__database.client._retryable_write(\n\u001b[0m\u001b[1;32m    678\u001b[0m             \u001b[0;34m(\u001b[0m\u001b[0mwrite_concern\u001b[0m \u001b[0;32mor\u001b[0m \u001b[0mself\u001b[0m\u001b[0;34m.\u001b[0m\u001b[0mwrite_concern\u001b[0m\u001b[0;34m)\u001b[0m\u001b[0;34m.\u001b[0m\u001b[0macknowledged\u001b[0m \u001b[0;32mand\u001b[0m \u001b[0;32mnot\u001b[0m \u001b[0mmulti\u001b[0m\u001b[0;34m,\u001b[0m\u001b[0;34m\u001b[0m\u001b[0;34m\u001b[0m\u001b[0m\n\u001b[1;32m    679\u001b[0m             _update, session)\n",
      "\u001b[0;32m~/.conda/envs/py39/lib/python3.9/site-packages/pymongo/mongo_client.py\u001b[0m in \u001b[0;36m_retryable_write\u001b[0;34m(self, retryable, func, session)\u001b[0m\n\u001b[1;32m   1338\u001b[0m         \u001b[0;34m\"\"\"Internal retryable write helper.\"\"\"\u001b[0m\u001b[0;34m\u001b[0m\u001b[0;34m\u001b[0m\u001b[0m\n\u001b[1;32m   1339\u001b[0m         \u001b[0;32mwith\u001b[0m \u001b[0mself\u001b[0m\u001b[0;34m.\u001b[0m\u001b[0m_tmp_session\u001b[0m\u001b[0;34m(\u001b[0m\u001b[0msession\u001b[0m\u001b[0;34m)\u001b[0m \u001b[0;32mas\u001b[0m \u001b[0ms\u001b[0m\u001b[0;34m:\u001b[0m\u001b[0;34m\u001b[0m\u001b[0;34m\u001b[0m\u001b[0m\n\u001b[0;32m-> 1340\u001b[0;31m             \u001b[0;32mreturn\u001b[0m \u001b[0mself\u001b[0m\u001b[0;34m.\u001b[0m\u001b[0m_retry_with_session\u001b[0m\u001b[0;34m(\u001b[0m\u001b[0mretryable\u001b[0m\u001b[0;34m,\u001b[0m \u001b[0mfunc\u001b[0m\u001b[0;34m,\u001b[0m \u001b[0ms\u001b[0m\u001b[0;34m,\u001b[0m \u001b[0;32mNone\u001b[0m\u001b[0;34m)\u001b[0m\u001b[0;34m\u001b[0m\u001b[0;34m\u001b[0m\u001b[0m\n\u001b[0m\u001b[1;32m   1341\u001b[0m \u001b[0;34m\u001b[0m\u001b[0m\n\u001b[1;32m   1342\u001b[0m     \u001b[0;32mdef\u001b[0m \u001b[0m__eq__\u001b[0m\u001b[0;34m(\u001b[0m\u001b[0mself\u001b[0m\u001b[0;34m,\u001b[0m \u001b[0mother\u001b[0m\u001b[0;34m)\u001b[0m\u001b[0;34m:\u001b[0m\u001b[0;34m\u001b[0m\u001b[0;34m\u001b[0m\u001b[0m\n",
      "\u001b[0;32m~/.conda/envs/py39/lib/python3.9/site-packages/pymongo/mongo_client.py\u001b[0m in \u001b[0;36m_retry_with_session\u001b[0;34m(self, retryable, func, session, bulk)\u001b[0m\n\u001b[1;32m   1227\u001b[0m         retryable = (retryable and self.options.retry_writes\n\u001b[1;32m   1228\u001b[0m                      and session and not session.in_transaction)\n\u001b[0;32m-> 1229\u001b[0;31m         \u001b[0;32mreturn\u001b[0m \u001b[0mself\u001b[0m\u001b[0;34m.\u001b[0m\u001b[0m_retry_internal\u001b[0m\u001b[0;34m(\u001b[0m\u001b[0mretryable\u001b[0m\u001b[0;34m,\u001b[0m \u001b[0mfunc\u001b[0m\u001b[0;34m,\u001b[0m \u001b[0msession\u001b[0m\u001b[0;34m,\u001b[0m \u001b[0mbulk\u001b[0m\u001b[0;34m)\u001b[0m\u001b[0;34m\u001b[0m\u001b[0;34m\u001b[0m\u001b[0m\n\u001b[0m\u001b[1;32m   1230\u001b[0m \u001b[0;34m\u001b[0m\u001b[0m\n\u001b[1;32m   1231\u001b[0m     \u001b[0;32mdef\u001b[0m \u001b[0m_retry_internal\u001b[0m\u001b[0;34m(\u001b[0m\u001b[0mself\u001b[0m\u001b[0;34m,\u001b[0m \u001b[0mretryable\u001b[0m\u001b[0;34m,\u001b[0m \u001b[0mfunc\u001b[0m\u001b[0;34m,\u001b[0m \u001b[0msession\u001b[0m\u001b[0;34m,\u001b[0m \u001b[0mbulk\u001b[0m\u001b[0;34m)\u001b[0m\u001b[0;34m:\u001b[0m\u001b[0;34m\u001b[0m\u001b[0;34m\u001b[0m\u001b[0m\n",
      "\u001b[0;32m~/.conda/envs/py39/lib/python3.9/site-packages/pymongo/mongo_client.py\u001b[0m in \u001b[0;36m_retry_internal\u001b[0;34m(self, retryable, func, session, bulk)\u001b[0m\n\u001b[1;32m   1259\u001b[0m                             \u001b[0;32mraise\u001b[0m \u001b[0mlast_error\u001b[0m\u001b[0;34m\u001b[0m\u001b[0;34m\u001b[0m\u001b[0m\n\u001b[1;32m   1260\u001b[0m                         \u001b[0mretryable\u001b[0m \u001b[0;34m=\u001b[0m \u001b[0;32mFalse\u001b[0m\u001b[0;34m\u001b[0m\u001b[0;34m\u001b[0m\u001b[0m\n\u001b[0;32m-> 1261\u001b[0;31m                     \u001b[0;32mreturn\u001b[0m \u001b[0mfunc\u001b[0m\u001b[0;34m(\u001b[0m\u001b[0msession\u001b[0m\u001b[0;34m,\u001b[0m \u001b[0msock_info\u001b[0m\u001b[0;34m,\u001b[0m \u001b[0mretryable\u001b[0m\u001b[0;34m)\u001b[0m\u001b[0;34m\u001b[0m\u001b[0;34m\u001b[0m\u001b[0m\n\u001b[0m\u001b[1;32m   1262\u001b[0m             \u001b[0;32mexcept\u001b[0m \u001b[0mServerSelectionTimeoutError\u001b[0m\u001b[0;34m:\u001b[0m\u001b[0;34m\u001b[0m\u001b[0;34m\u001b[0m\u001b[0m\n\u001b[1;32m   1263\u001b[0m                 \u001b[0;32mif\u001b[0m \u001b[0mis_retrying\u001b[0m\u001b[0;34m(\u001b[0m\u001b[0;34m)\u001b[0m\u001b[0;34m:\u001b[0m\u001b[0;34m\u001b[0m\u001b[0;34m\u001b[0m\u001b[0m\n",
      "\u001b[0;32m~/.conda/envs/py39/lib/python3.9/site-packages/pymongo/collection.py\u001b[0m in \u001b[0;36m_update\u001b[0;34m(session, sock_info, retryable_write)\u001b[0m\n\u001b[1;32m    667\u001b[0m         \u001b[0;34m\"\"\"Internal update / replace helper.\"\"\"\u001b[0m\u001b[0;34m\u001b[0m\u001b[0;34m\u001b[0m\u001b[0m\n\u001b[1;32m    668\u001b[0m         \u001b[0;32mdef\u001b[0m \u001b[0m_update\u001b[0m\u001b[0;34m(\u001b[0m\u001b[0msession\u001b[0m\u001b[0;34m,\u001b[0m \u001b[0msock_info\u001b[0m\u001b[0;34m,\u001b[0m \u001b[0mretryable_write\u001b[0m\u001b[0;34m)\u001b[0m\u001b[0;34m:\u001b[0m\u001b[0;34m\u001b[0m\u001b[0;34m\u001b[0m\u001b[0m\n\u001b[0;32m--> 669\u001b[0;31m             return self._update(\n\u001b[0m\u001b[1;32m    670\u001b[0m                 \u001b[0msock_info\u001b[0m\u001b[0;34m,\u001b[0m \u001b[0mcriteria\u001b[0m\u001b[0;34m,\u001b[0m \u001b[0mdocument\u001b[0m\u001b[0;34m,\u001b[0m \u001b[0mupsert\u001b[0m\u001b[0;34m=\u001b[0m\u001b[0mupsert\u001b[0m\u001b[0;34m,\u001b[0m\u001b[0;34m\u001b[0m\u001b[0;34m\u001b[0m\u001b[0m\n\u001b[1;32m    671\u001b[0m                 \u001b[0mcheck_keys\u001b[0m\u001b[0;34m=\u001b[0m\u001b[0mcheck_keys\u001b[0m\u001b[0;34m,\u001b[0m \u001b[0mmulti\u001b[0m\u001b[0;34m=\u001b[0m\u001b[0mmulti\u001b[0m\u001b[0;34m,\u001b[0m\u001b[0;34m\u001b[0m\u001b[0;34m\u001b[0m\u001b[0m\n",
      "\u001b[0;32m~/.conda/envs/py39/lib/python3.9/site-packages/pymongo/collection.py\u001b[0m in \u001b[0;36m_update\u001b[0;34m(self, sock_info, criteria, document, upsert, check_keys, multi, write_concern, op_id, ordered, bypass_doc_val, collation, array_filters, hint, session, retryable_write)\u001b[0m\n\u001b[1;32m    644\u001b[0m             \u001b[0mclient\u001b[0m\u001b[0;34m=\u001b[0m\u001b[0mself\u001b[0m\u001b[0;34m.\u001b[0m\u001b[0m__database\u001b[0m\u001b[0;34m.\u001b[0m\u001b[0mclient\u001b[0m\u001b[0;34m,\u001b[0m\u001b[0;34m\u001b[0m\u001b[0;34m\u001b[0m\u001b[0m\n\u001b[1;32m    645\u001b[0m             retryable_write=retryable_write).copy()\n\u001b[0;32m--> 646\u001b[0;31m         \u001b[0m_check_write_command_response\u001b[0m\u001b[0;34m(\u001b[0m\u001b[0mresult\u001b[0m\u001b[0;34m)\u001b[0m\u001b[0;34m\u001b[0m\u001b[0;34m\u001b[0m\u001b[0m\n\u001b[0m\u001b[1;32m    647\u001b[0m         \u001b[0;31m# Add the updatedExisting field for compatibility.\u001b[0m\u001b[0;34m\u001b[0m\u001b[0;34m\u001b[0m\u001b[0m\n\u001b[1;32m    648\u001b[0m         \u001b[0;32mif\u001b[0m \u001b[0mresult\u001b[0m\u001b[0;34m.\u001b[0m\u001b[0mget\u001b[0m\u001b[0;34m(\u001b[0m\u001b[0;34m'n'\u001b[0m\u001b[0;34m)\u001b[0m \u001b[0;32mand\u001b[0m \u001b[0;34m'upserted'\u001b[0m \u001b[0;32mnot\u001b[0m \u001b[0;32min\u001b[0m \u001b[0mresult\u001b[0m\u001b[0;34m:\u001b[0m\u001b[0;34m\u001b[0m\u001b[0;34m\u001b[0m\u001b[0m\n",
      "\u001b[0;32m~/.conda/envs/py39/lib/python3.9/site-packages/pymongo/helpers.py\u001b[0m in \u001b[0;36m_check_write_command_response\u001b[0;34m(result)\u001b[0m\n\u001b[1;32m    207\u001b[0m     \u001b[0mwrite_errors\u001b[0m \u001b[0;34m=\u001b[0m \u001b[0mresult\u001b[0m\u001b[0;34m.\u001b[0m\u001b[0mget\u001b[0m\u001b[0;34m(\u001b[0m\u001b[0;34m\"writeErrors\"\u001b[0m\u001b[0;34m)\u001b[0m\u001b[0;34m\u001b[0m\u001b[0;34m\u001b[0m\u001b[0m\n\u001b[1;32m    208\u001b[0m     \u001b[0;32mif\u001b[0m \u001b[0mwrite_errors\u001b[0m\u001b[0;34m:\u001b[0m\u001b[0;34m\u001b[0m\u001b[0;34m\u001b[0m\u001b[0m\n\u001b[0;32m--> 209\u001b[0;31m         \u001b[0m_raise_last_write_error\u001b[0m\u001b[0;34m(\u001b[0m\u001b[0mwrite_errors\u001b[0m\u001b[0;34m)\u001b[0m\u001b[0;34m\u001b[0m\u001b[0;34m\u001b[0m\u001b[0m\n\u001b[0m\u001b[1;32m    210\u001b[0m \u001b[0;34m\u001b[0m\u001b[0m\n\u001b[1;32m    211\u001b[0m     \u001b[0mwce\u001b[0m \u001b[0;34m=\u001b[0m \u001b[0m_get_wce_doc\u001b[0m\u001b[0;34m(\u001b[0m\u001b[0mresult\u001b[0m\u001b[0;34m)\u001b[0m\u001b[0;34m\u001b[0m\u001b[0;34m\u001b[0m\u001b[0m\n",
      "\u001b[0;32m~/.conda/envs/py39/lib/python3.9/site-packages/pymongo/helpers.py\u001b[0m in \u001b[0;36m_raise_last_write_error\u001b[0;34m(write_errors)\u001b[0m\n\u001b[1;32m    177\u001b[0m     \u001b[0;32mif\u001b[0m \u001b[0merror\u001b[0m\u001b[0;34m.\u001b[0m\u001b[0mget\u001b[0m\u001b[0;34m(\u001b[0m\u001b[0;34m\"code\"\u001b[0m\u001b[0;34m)\u001b[0m \u001b[0;34m==\u001b[0m \u001b[0;36m11000\u001b[0m\u001b[0;34m:\u001b[0m\u001b[0;34m\u001b[0m\u001b[0;34m\u001b[0m\u001b[0m\n\u001b[1;32m    178\u001b[0m         \u001b[0;32mraise\u001b[0m \u001b[0mDuplicateKeyError\u001b[0m\u001b[0;34m(\u001b[0m\u001b[0merror\u001b[0m\u001b[0;34m.\u001b[0m\u001b[0mget\u001b[0m\u001b[0;34m(\u001b[0m\u001b[0;34m\"errmsg\"\u001b[0m\u001b[0;34m)\u001b[0m\u001b[0;34m,\u001b[0m \u001b[0;36m11000\u001b[0m\u001b[0;34m,\u001b[0m \u001b[0merror\u001b[0m\u001b[0;34m)\u001b[0m\u001b[0;34m\u001b[0m\u001b[0;34m\u001b[0m\u001b[0m\n\u001b[0;32m--> 179\u001b[0;31m     \u001b[0;32mraise\u001b[0m \u001b[0mWriteError\u001b[0m\u001b[0;34m(\u001b[0m\u001b[0merror\u001b[0m\u001b[0;34m.\u001b[0m\u001b[0mget\u001b[0m\u001b[0;34m(\u001b[0m\u001b[0;34m\"errmsg\"\u001b[0m\u001b[0;34m)\u001b[0m\u001b[0;34m,\u001b[0m \u001b[0merror\u001b[0m\u001b[0;34m.\u001b[0m\u001b[0mget\u001b[0m\u001b[0;34m(\u001b[0m\u001b[0;34m\"code\"\u001b[0m\u001b[0;34m)\u001b[0m\u001b[0;34m,\u001b[0m \u001b[0merror\u001b[0m\u001b[0;34m)\u001b[0m\u001b[0;34m\u001b[0m\u001b[0;34m\u001b[0m\u001b[0m\n\u001b[0m\u001b[1;32m    180\u001b[0m \u001b[0;34m\u001b[0m\u001b[0m\n\u001b[1;32m    181\u001b[0m \u001b[0;34m\u001b[0m\u001b[0m\n",
      "\u001b[0;31mWriteError\u001b[0m: Document failed validation, full error: {'index': 0, 'code': 121, 'errInfo': {'failingDocumentId': ObjectId('623a21640339d6672fe18b43'), 'details': {'operatorName': '$jsonSchema', 'schemaRulesNotSatisfied': [{'operatorName': 'properties', 'propertiesNotSatisfied': [{'propertyName': 'physical_memory_gigabytes', 'description': 'must be an integer in [ 1, 128 ] and is required', 'details': [{'operatorName': 'maximum', 'specifiedAs': {'maximum': 128}, 'reason': 'comparison failed', 'consideredValue': 256}]}, {'propertyName': 'processor_count', 'description': 'must be an integer in [ 1, 32 ] and is required', 'details': [{'operatorName': 'maximum', 'specifiedAs': {'maximum': 32}, 'reason': 'comparison failed', 'consideredValue': 64}]}]}]}}, 'errmsg': 'Document failed validation'}"
     ]
    }
   ],
   "source": [
    "historic_collection.update_one({'physical_memory_gigabytes':128}, {'$set':{'physical_memory_gigabytes':256, 'processor_count':64}})"
   ]
  },
  {
   "cell_type": "code",
   "execution_count": null,
   "id": "35d11dd7-08e9-442a-9e93-d5c857749687",
   "metadata": {},
   "outputs": [],
   "source": []
  }
 ],
 "metadata": {
  "kernelspec": {
   "display_name": "Python 3 (ipykernel)",
   "language": "python",
   "name": "python3"
  },
  "language_info": {
   "codemirror_mode": {
    "name": "ipython",
    "version": 3
   },
   "file_extension": ".py",
   "mimetype": "text/x-python",
   "name": "python",
   "nbconvert_exporter": "python",
   "pygments_lexer": "ipython3",
   "version": "3.9.9"
  }
 },
 "nbformat": 4,
 "nbformat_minor": 5
}
